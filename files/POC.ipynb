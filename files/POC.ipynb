{
 "cells": [
  {
   "cell_type": "code",
   "execution_count": 1,
   "metadata": {
    "collapsed": true
   },
   "outputs": [],
   "source": [
    "import nltk\n",
    "from nltk.corpus import webtext\n",
    "import numpy as np\n",
    "from __future__ import division\n",
    "import vincent\n",
    "import nltk\n",
    "from nltk.corpus import stopwords\n",
    "from nltk import FreqDist\n",
    "import pandas as pd"
   ]
  },
  {
   "cell_type": "code",
   "execution_count": 2,
   "metadata": {
    "collapsed": true
   },
   "outputs": [],
   "source": [
    "poc = webtext.raw(\"pirates.txt\")\n",
    "p = poc.split('\\n')[2:-2]\n",
    "#for s in p:\n",
    "#    print s"
   ]
  },
  {
   "cell_type": "code",
   "execution_count": 3,
   "metadata": {
    "collapsed": true
   },
   "outputs": [],
   "source": [
    "# The raw text is inconsistent. In this section I'll fix it.\n",
    "\n",
    "# Add the missing 'Scene:' on the line 297, delete the line there since it's not important.\n",
    "p[297] = \"Scene: Port Royal\"\n",
    "\n",
    "# There is a \"Prisoners\" on the line 300 that has to be changed to \"PRISONERS\".\n",
    "aux = list(p[300])\n",
    "aux[0:9] = \"PRISONERS\"\n",
    "p[300] = \"\".join(aux)\n",
    "\n",
    "# Add the missing 'Scene:' on the line 315.\n",
    "p[315] = \"Scene: \" + p[315]\n",
    "\n",
    "# Add the missing 'Scene:' on the line 338 and 339.\n",
    "p[338] = p[338][0:-9]\n",
    "p[339] = \"Scene: Longboat\"\n",
    "\n",
    "# Change \"###PINTEL\" for \"PINTEL\".\n",
    "p[358] = p[358][3:-1]\n",
    "\n",
    "# Change \"LEEECH\" for \"LEECH\"\n",
    "p[421] = \"LEECH: Stop! ...\"\n",
    "\n",
    "# Add the missing 'Scene:' on the line 425.\n",
    "p[425] = \"Scene: \" + p[425]\n",
    "\n",
    "# Add the missing 'Scene:' on the line 552.\n",
    "p[552] = \"Scene: PANTANO RIVER\"\n",
    "\n",
    "# Add the missing 'Scene:' on the line 563.\n",
    "p[563] = \"Scene: \" + p[563]\n",
    "\n",
    "# Add the missing 'Scene:' on the line 665.\n",
    "p[665] = \"Scene: \" + p[563]\n",
    "\n",
    "# Add the missing 'Scene:' on the line 691.\n",
    "p[691] = \"Scene: \" + p[691]\n",
    "\n",
    "# Add the missing 'Scene:' on the line 717.\n",
    "p[717] = \"Scene: BLACK PEARL\"\n",
    "\n",
    "# Add the missing 'Scene:' on the line 777.\n",
    "p[777] = \"Scene: TORTUGA\"\n",
    "\n",
    "# Add the missing 'Scene:' on the line 833.\n",
    "p[833] = \"Scene: FLYING DUTCHMAN\"\n",
    "\n",
    "# Add the missing 'Scene:' on the line 863.\n",
    "p[863] = \"Scene: \" + p[863]\n",
    "\n",
    "# Add the missing 'Scene:' on the line 935.\n",
    "p[935] = \"Scene: \" + p[935]\n",
    "\n",
    "# Add the missing 'Scene:' on the line 945.\n",
    "p[945] = \"Scene: \" + p[945]\n",
    "\n",
    "# TODO: the scene Edinburgh Trader on line 1028, difficult to place.\n",
    "\n",
    "# Add the missing 'Scene:' on the line 1046.\n",
    "p[1046] = \"Scene: \" + p[1046]\n",
    "\n",
    "# Add the missing 'Scene:' on the line 1088.\n",
    "p[1088] = \"Scene: BLACK PEARL\"\n",
    "\n",
    "# Add the missing 'Scene:' on the line 1129.\n",
    "p[1129] = \"Scene: \" + p[1129]\n",
    "\n",
    "# Add the missing: 'Scene:' on the line 1143.\n",
    "p[1143] = \"Scene: \" + p[1143]\n",
    "\n",
    "# Add the missing: 'Scene:' on the line 1154.\n",
    "p[1154] = \"Scene: \" + p[1154]\n",
    "\n",
    "# Add the missing 'Scene:' on the line 1224.\n",
    "p[1224] = \"Scene: \" + p[1224]\n",
    "\n",
    "# Add the missing 'Scene:' on the line 1290.\n",
    "p[1290] = \"Scene: \" + p[1290]\n",
    "\n",
    "# Add the missing 'Scene:' on the line 1327.\n",
    "p[1327] = \"Scene: BLACK PEARL\"\n",
    "\n",
    "# Add the missing 'Scene:' on the line 1363.\n",
    "p[1363] = \"Scene: \" + p[1363]\n",
    "\n",
    "# Add the missing 'Scene:' on the line 1482.\n",
    "p[1482] = \"Scene:\" + p[1482]\n",
    "\n",
    "# Add the missing 'Scene:' on the line 1490.\n",
    "p[1490] = \"Scene: \" + p[1490]\n",
    "\n",
    "# Add the missing 'Scene:' on the line 1500.\n",
    "p[1500] = \"Scene: \" + p[1500]\n",
    "\n",
    "# Add a 'Scene' to the end to make the processing easier.\n",
    "p[-1] = \"Scene: THE END\""
   ]
  },
  {
   "cell_type": "code",
   "execution_count": 4,
   "metadata": {
    "collapsed": false
   },
   "outputs": [],
   "source": [
    "# Remove the lines that start with '['\n",
    "p4 = [s for s in p if s.split(':')[0] != \"[\"]\n",
    "#p4"
   ]
  },
  {
   "cell_type": "code",
   "execution_count": 5,
   "metadata": {
    "collapsed": false
   },
   "outputs": [
    {
     "name": "stdout",
     "output_type": "stream",
     "text": [
      "48\n",
      "\n",
      "MARTY\n",
      "GIBBS\n",
      "CANNIBAL CROWD\n",
      "CANNIBAL BOY\n",
      "CANNIBAL WOMAN\n",
      "HADRUS\n",
      "JACK SPARROW\n",
      "SHRIMPER'S BROTHER\n",
      "COTTON'S PARROT\n",
      "ELIZABETH SWANN\n",
      "WYVERN\n",
      "KOLENIKO\n",
      "HELMSMAN\n",
      "CHAPLAIN\n",
      "SHRIMPER\n",
      "WILL TURNER\n",
      "WOUNDED SAILOR\n",
      "TIA DALMA\n",
      "RAGETTI\n",
      "GISELLE\n",
      "ONE-ARMED MAN\n",
      "TURKISH FISHERMAN\n",
      "DAVY JONES\n",
      "GUARD\n",
      "CARRUTHERS\n",
      "ROMANTIC MAN\n",
      "ELDERLY MAN\n",
      "?\n",
      "QUARTERMASTER\n",
      "LORD CUTLER BECKETT\n",
      "BARBOSSA\n",
      "MERCER\n",
      "LEECH\n",
      "GREENBEARD\n",
      "BELLAMY\n",
      "MESSENGER SAILOR\n",
      "WEATHERED SAILOR\n",
      "PINTEL\n",
      "BO'SUN\n",
      "PRISONERS\n",
      "HALF-BLIND FISHERMAN\n",
      "CREW\n",
      "BURSAR\n",
      "JILTED MAN\n",
      "GREEK FISHERMAN\n",
      "MACCUS\n",
      "NORRINGTON\n",
      "SCARLETT\n"
     ]
    }
   ],
   "source": [
    "# Get the characters of the story.\n",
    "\n",
    "characters = set()\n",
    "for s in p4:\n",
    "    if \":\" in s:\n",
    "        c = s.split(':')[0]\n",
    "        characters.add(c)\n",
    "    \n",
    "characters = list(characters)\n",
    "\n",
    "# Remove the outliers.\n",
    "characters.remove('Scene')\n",
    "characters.remove('[Among the crew')\n",
    "characters.remove('FLYING DUTCHMAN')\n",
    "\n",
    "print len(characters)\n",
    "print\n",
    "\n",
    "for elem in characters:\n",
    "    print elem"
   ]
  },
  {
   "cell_type": "code",
   "execution_count": 10,
   "metadata": {
    "collapsed": true
   },
   "outputs": [],
   "source": [
    "import networkx as nx\n",
    "import matplotlib.pyplot as plt\n",
    "\n",
    "G = nx.Graph()\n",
    "\n",
    "# Add the nodes\n",
    "for char in characters:\n",
    "    G.add_node(char)"
   ]
  },
  {
   "cell_type": "code",
   "execution_count": 11,
   "metadata": {
    "collapsed": false
   },
   "outputs": [],
   "source": [
    "# Add the edges.\n",
    "\n",
    "inte = []\n",
    "for sen in p4:\n",
    "    if sen[:6] == \"Scene:\":\n",
    "        if len(inte) != 0:\n",
    "            for i, c in enumerate(inte):    \n",
    "                for j in range(i+1,len(inte)):\n",
    "                    if G.has_edge(c, inte[j]):\n",
    "                        G[c][inte[j]]['weight'] = G[c][inte[j]]['weight'] + 1\n",
    "                    else:\n",
    "                        G.add_edge(c, inte[j], weight=1)\n",
    "\n",
    "            inte = []\n",
    "    elif \":\" in sen:\n",
    "        c = sen.split(\":\")[0]\n",
    "        if c in characters and c not in inte:\n",
    "            inte.append(c)\n",
    "\n",
    "                    \n",
    "# Remove the nodes with degree 0.\n",
    "for char in characters:\n",
    "    if G.degree(char) == 0:\n",
    "        G.remove_node(char)\n",
    "        print char\n",
    "        \n",
    "        \n",
    "# Add the degree to each node.\n",
    "for char in characters:\n",
    "    if G.has_node(char):\n",
    "        G.node[char]['deg'] = G.degree(char)\n"
   ]
  },
  {
   "cell_type": "code",
   "execution_count": 8,
   "metadata": {
    "collapsed": false
   },
   "outputs": [],
   "source": [
    "#draw the graph\n",
    "pos = nx.circular_layout(G)\n",
    "nx.draw_networkx_nodes(G, pos)\n",
    "nx.draw_networkx_labels(G, pos)\n",
    "nx.draw_networkx_edges(G, pos)\n",
    "\n",
    "#show\n",
    "plt.savefig(\"POC5.png\")\n",
    "plt.close()"
   ]
  },
  {
   "cell_type": "code",
   "execution_count": 12,
   "metadata": {
    "collapsed": false
   },
   "outputs": [
    {
     "data": {
      "text/plain": [
       "[(u'WILL TURNER', 0.10466822912255654),\n",
       " (u'JACK SPARROW', 0.08507554614130902),\n",
       " (u'ELIZABETH SWANN', 0.07367765636927222),\n",
       " (u'GIBBS', 0.0682169301575914),\n",
       " (u'PINTEL', 0.05535900409519341),\n",
       " (u'RAGETTI', 0.050632439060312645),\n",
       " (u'NORRINGTON', 0.04067579179294711),\n",
       " (u'DAVY JONES', 0.03084870984476889),\n",
       " (u\"COTTON'S PARROT\", 0.026999193178829598),\n",
       " (u'GREEK FISHERMAN', 0.020833333333333332)]"
      ]
     },
     "execution_count": 12,
     "metadata": {},
     "output_type": "execute_result"
    }
   ],
   "source": [
    "x = nx.algorithms.pagerank(G)\n",
    "\n",
    "import operator\n",
    "sorted_x = sorted(x.items(), key=operator.itemgetter(1))\n",
    "sorted_x.reverse()\n",
    "sorted_x[:10]"
   ]
  },
  {
   "cell_type": "code",
   "execution_count": 10,
   "metadata": {
    "collapsed": false
   },
   "outputs": [
    {
     "data": {
      "text/plain": [
       "[(u'BURSAR', 7),\n",
       " (u'MESSENGER SAILOR', 7),\n",
       " (u'BELLAMY', 7),\n",
       " (u'QUARTERMASTER', 7),\n",
       " (u'PRISONERS', 6),\n",
       " (u'MERCER', 6),\n",
       " (u'LORD CUTLER BECKETT', 6),\n",
       " (u'GUARD', 6),\n",
       " (u'GREEK FISHERMAN', 5),\n",
       " (u'TURKISH FISHERMAN', 5),\n",
       " (u'JILTED MAN', 4),\n",
       " (u'ELDERLY MAN', 4),\n",
       " (u'ROMANTIC MAN', 4),\n",
       " (u'ONE-ARMED MAN', 4),\n",
       " (u'MACCUS', 3),\n",
       " (u\"BO'SUN\", 3),\n",
       " (u'GREENBEARD', 3),\n",
       " (u'CHAPLAIN', 3),\n",
       " (u'DAVY JONES', 3),\n",
       " (u'WOUNDED SAILOR', 3),\n",
       " (u'KOLENIKO', 3),\n",
       " (u'HELMSMAN', 3),\n",
       " (u'CANNIBAL BOY', 2),\n",
       " (u'CANNIBAL WOMAN', 2),\n",
       " (u'SCARLETT', 1),\n",
       " (u'WEATHERED SAILOR', 1),\n",
       " (u\"SHRIMPER'S BROTHER\", 1),\n",
       " (u'GISELLE', 1),\n",
       " (u'SHRIMPER', 1),\n",
       " (u'HALF-BLIND FISHERMAN', 1),\n",
       " (u'NORRINGTON', 0),\n",
       " (u'CREW', 0),\n",
       " (u'HADRUS', 0),\n",
       " (u'PINTEL', 0),\n",
       " (u'LEECH', 0),\n",
       " (u'BARBOSSA', 0),\n",
       " (u'CARRUTHERS', 0),\n",
       " (u'?', 0),\n",
       " (u'RAGETTI', 0),\n",
       " (u'WILL TURNER', 0),\n",
       " (u'WYVERN', 0),\n",
       " (u'ELIZABETH SWANN', 0),\n",
       " (u\"COTTON'S PARROT\", 0),\n",
       " (u'TIA DALMA', 0),\n",
       " (u'JACK SPARROW', 0),\n",
       " (u'CANNIBAL CROWD', 0),\n",
       " (u'GIBBS', 0),\n",
       " (u'MARTY', 0)]"
      ]
     },
     "execution_count": 10,
     "metadata": {},
     "output_type": "execute_result"
    }
   ],
   "source": [
    "import community\n",
    "\n",
    "com = community.best_partition(G)\n",
    "\n",
    "sorted_x = sorted(com.items(), key=operator.itemgetter(1))\n",
    "sorted_x.reverse()\n",
    "sorted_x"
   ]
  },
  {
   "cell_type": "code",
   "execution_count": 11,
   "metadata": {
    "collapsed": false
   },
   "outputs": [],
   "source": [
    "nx.write_gexf(G, \"POC5.gexf\")"
   ]
  },
  {
   "cell_type": "code",
   "execution_count": 17,
   "metadata": {
    "collapsed": false
   },
   "outputs": [
    {
     "data": {
      "text/plain": [
       "[(u'JACK SPARROW', 0.4271448335262501),\n",
       " (u'WILL TURNER', 0.4057909261851892),\n",
       " (u'GIBBS', 0.37636874701879697),\n",
       " (u'ELIZABETH SWANN', 0.37290808669843756),\n",
       " (u'PINTEL', 0.36832848997207174),\n",
       " (u'RAGETTI', 0.3439285311251907),\n",
       " (u'NORRINGTON', 0.21461284927533486),\n",
       " (u\"COTTON'S PARROT\", 0.11130771708326352),\n",
       " (u'MARTY', 0.10886226100825261),\n",
       " (u'DAVY JONES', 0.09218498081593503)]"
      ]
     },
     "execution_count": 17,
     "metadata": {},
     "output_type": "execute_result"
    }
   ],
   "source": [
    "x = nx.algorithms.eigenvector_centrality(G)\n",
    "\n",
    "sorted_x = sorted(x.items(), key=operator.itemgetter(1))\n",
    "sorted_x.reverse()\n",
    "sorted_x[:10]"
   ]
  },
  {
   "cell_type": "code",
   "execution_count": 18,
   "metadata": {
    "collapsed": false
   },
   "outputs": [
    {
     "data": {
      "text/plain": [
       "[(u'WILL TURNER', 0.6808510638297872),\n",
       " (u'JACK SPARROW', 0.5319148936170213),\n",
       " (u'ELIZABETH SWANN', 0.5106382978723404),\n",
       " (u'GIBBS', 0.44680851063829785),\n",
       " (u'NORRINGTON', 0.36170212765957444),\n",
       " (u\"COTTON'S PARROT\", 0.2765957446808511),\n",
       " (u'PINTEL', 0.2553191489361702),\n",
       " (u'DAVY JONES', 0.2553191489361702),\n",
       " (u'RAGETTI', 0.2553191489361702),\n",
       " (u'MARTY', 0.2127659574468085)]"
      ]
     },
     "execution_count": 18,
     "metadata": {},
     "output_type": "execute_result"
    }
   ],
   "source": [
    "x = nx.algorithms.degree_centrality(G)\n",
    "\n",
    "sorted_x = sorted(x.items(), key=operator.itemgetter(1))\n",
    "sorted_x.reverse()\n",
    "#for elem in sorted_x[:10]:\n",
    "#    print \"(\" + str(elem[0]) + \", \" + str(elem[1]*(nx.number_of_nodes(G)-1)) + \"),\"\n",
    "sorted_x[:10]"
   ]
  },
  {
   "cell_type": "code",
   "execution_count": 20,
   "metadata": {
    "collapsed": false
   },
   "outputs": [
    {
     "data": {
      "text/plain": [
       "[(u'WILL TURNER', 0.7428466617754953),\n",
       " (u'JACK SPARROW', 0.6244218316373729),\n",
       " (u'ELIZABETH SWANN', 0.615501519756839),\n",
       " (u'GIBBS', 0.5902069367531333),\n",
       " (u'NORRINGTON', 0.5595468361425808),\n",
       " (u\"COTTON'S PARROT\", 0.5595468361425808),\n",
       " (u'PINTEL', 0.5254281266216918),\n",
       " (u'DAVY JONES', 0.5254281266216918),\n",
       " (u'RAGETTI', 0.5254281266216918),\n",
       " (u'MARTY', 0.5129179331306991)]"
      ]
     },
     "execution_count": 20,
     "metadata": {},
     "output_type": "execute_result"
    }
   ],
   "source": [
    "x = nx.algorithms.closeness_centrality(G)\n",
    "\n",
    "sorted_x = sorted(x.items(), key=operator.itemgetter(1))\n",
    "sorted_x.reverse()\n",
    "sorted_x[:10]"
   ]
  },
  {
   "cell_type": "code",
   "execution_count": 15,
   "metadata": {
    "collapsed": false
   },
   "outputs": [
    {
     "data": {
      "text/plain": [
       "[(u'WILL TURNER', 0.4392961596939395),\n",
       " (u'JACK SPARROW', 0.15531521105064122),\n",
       " (u'SHRIMPER', 0.1517113783533765),\n",
       " (u'ELIZABETH SWANN', 0.12041259696208817),\n",
       " (u\"COTTON'S PARROT\", 0.05530012694675045),\n",
       " (u'GIBBS', 0.05128014651603921),\n",
       " (u'DAVY JONES', 0.03823620104841195),\n",
       " (u'NORRINGTON', 0.03710048816431794),\n",
       " (u'LORD CUTLER BECKETT', 0.007873368280398809),\n",
       " (u'MARTY', 0.0042451073440897685)]"
      ]
     },
     "execution_count": 15,
     "metadata": {},
     "output_type": "execute_result"
    }
   ],
   "source": [
    "x = nx.algorithms.betweenness_centrality(G)\n",
    "\n",
    "sorted_x = sorted(x.items(), key=operator.itemgetter(1))\n",
    "sorted_x.reverse()\n",
    "sorted_x[:10]"
   ]
  },
  {
   "cell_type": "code",
   "execution_count": 6,
   "metadata": {
    "collapsed": false
   },
   "outputs": [
    {
     "name": "stdout",
     "output_type": "stream",
     "text": [
      "(u'JACK SPARROW', 193)\n",
      "(u'WILL TURNER', 133)\n",
      "(u'ELIZABETH SWANN', 93)\n",
      "(u'GIBBS', 85)\n",
      "(u'DAVY JONES', 46)\n",
      "(u'PINTEL', 39)\n",
      "(u'LORD CUTLER BECKETT', 34)\n",
      "(u'RAGETTI', 28)\n",
      "(u'NORRINGTON', 28)\n",
      "(u'TIA DALMA', 26)\n"
     ]
    }
   ],
   "source": [
    "import collections\n",
    "\n",
    "# Characters with most lines.\n",
    "chl = []\n",
    "for sen in p4:\n",
    "    if \":\" in sen:\n",
    "        c = sen.split(\":\")[0]\n",
    "        if c in characters:\n",
    "            chl.append(c)\n",
    "\n",
    "counter = collections.Counter(chl)\n",
    "for elem in counter.most_common(10):\n",
    "    print elem\n"
   ]
  },
  {
   "cell_type": "code",
   "execution_count": 7,
   "metadata": {
    "collapsed": false
   },
   "outputs": [
    {
     "data": {
      "text/html": [
       "\n",
       "           <script>\n",
       "               \n",
       "                function vct_load_lib(url, callback){\n",
       "                      if(typeof d3 !== 'undefined' &&\n",
       "                         url === 'http://d3js.org/d3.v3.min.js'){\n",
       "                        callback()\n",
       "                      }\n",
       "                      var s = document.createElement('script');\n",
       "                      s.src = url;\n",
       "                      s.async = true;\n",
       "                      s.onreadystatechange = s.onload = callback;\n",
       "                      s.onerror = function(){\n",
       "                        console.warn(\"failed to load library \" + url);\n",
       "                        };\n",
       "                      document.getElementsByTagName(\"head\")[0].appendChild(s);\n",
       "                };\n",
       "                var vincent_event = new CustomEvent(\n",
       "                  \"vincent_libs_loaded\",\n",
       "                  {bubbles: true, cancelable: true}\n",
       "                );\n",
       "                \n",
       "               function load_all_libs(){\n",
       "                  console.log('Loading Vincent libs...')\n",
       "                  vct_load_lib('http://d3js.org/d3.v3.min.js', function(){\n",
       "                  vct_load_lib('http://d3js.org/d3.geo.projection.v0.min.js', function(){\n",
       "                  vct_load_lib('http://wrobstory.github.io/d3-cloud/d3.layout.cloud.js', function(){\n",
       "                  vct_load_lib('http://wrobstory.github.io/vega/vega.v1.3.3.js', function(){\n",
       "                  window.dispatchEvent(vincent_event);\n",
       "                  });\n",
       "                  });\n",
       "                  });\n",
       "                  });\n",
       "               };\n",
       "               if(typeof define === \"function\" && define.amd){\n",
       "                    if (window['d3'] === undefined ||\n",
       "                        window['topojson'] === undefined){\n",
       "                        require.config(\n",
       "                            {paths: {\n",
       "                              d3: 'http://d3js.org/d3.v3.min',\n",
       "                              topojson: 'http://d3js.org/topojson.v1.min'\n",
       "                              }\n",
       "                            }\n",
       "                          );\n",
       "                        require([\"d3\"], function(d3){\n",
       "                            console.log('Loading Vincent from require.js...')\n",
       "                            window.d3 = d3;\n",
       "                            require([\"topojson\"], function(topojson){\n",
       "                                window.topojson = topojson;\n",
       "                                load_all_libs();\n",
       "                            });\n",
       "                        });\n",
       "                    } else {\n",
       "                        load_all_libs();\n",
       "                    };\n",
       "               }else{\n",
       "                    console.log('Require.js not found, loading manually...')\n",
       "                    load_all_libs();\n",
       "               };\n",
       "\n",
       "           </script>"
      ],
      "text/plain": [
       "<IPython.core.display.HTML object>"
      ]
     },
     "metadata": {},
     "output_type": "display_data"
    },
    {
     "data": {
      "text/html": [
       "<div id=\"vis33b87278864840b4bf4dd01d001be306\"></div>\n",
       "<script>\n",
       "   ( function() {\n",
       "     var _do_plot = function() {\n",
       "       if (typeof vg === 'undefined') {\n",
       "         window.addEventListener('vincent_libs_loaded', _do_plot)\n",
       "         return;\n",
       "       }\n",
       "       vg.parse.spec({\"axes\": [{\"scale\": \"x\", \"title\": \"Character\", \"type\": \"x\"}, {\"scale\": \"y\", \"title\": \"# lines\", \"type\": \"y\"}], \"data\": [{\"name\": \"table\", \"values\": [{\"col\": \"data\", \"idx\": \"JACK SPARROW\", \"val\": 193}, {\"col\": \"data\", \"idx\": \"WILL TURNER\", \"val\": 133}, {\"col\": \"data\", \"idx\": \"ELIZABETH SWANN\", \"val\": 93}, {\"col\": \"data\", \"idx\": \"GIBBS\", \"val\": 85}, {\"col\": \"data\", \"idx\": \"DAVY JONES\", \"val\": 46}, {\"col\": \"data\", \"idx\": \"PINTEL\", \"val\": 39}, {\"col\": \"data\", \"idx\": \"LORD CUTLER BECKETT\", \"val\": 34}, {\"col\": \"data\", \"idx\": \"RAGETTI\", \"val\": 28}, {\"col\": \"data\", \"idx\": \"NORRINGTON\", \"val\": 28}, {\"col\": \"data\", \"idx\": \"TIA DALMA\", \"val\": 26}]}, {\"name\": \"stats\", \"source\": \"table\", \"transform\": [{\"keys\": [\"data.idx\"], \"type\": \"facet\"}, {\"type\": \"stats\", \"value\": \"data.val\"}]}], \"height\": 500, \"legends\": [], \"marks\": [{\"from\": {\"data\": \"table\", \"transform\": [{\"keys\": [\"data.col\"], \"type\": \"facet\"}, {\"height\": \"data.val\", \"point\": \"data.idx\", \"type\": \"stack\"}]}, \"marks\": [{\"properties\": {\"enter\": {\"fill\": {\"field\": \"data.col\", \"scale\": \"color\"}, \"width\": {\"band\": true, \"offset\": -1, \"scale\": \"x\"}, \"x\": {\"field\": \"data.idx\", \"scale\": \"x\"}, \"y\": {\"field\": \"y\", \"scale\": \"y\"}, \"y2\": {\"field\": \"y2\", \"scale\": \"y\"}}}, \"type\": \"rect\"}], \"type\": \"group\"}], \"padding\": \"auto\", \"scales\": [{\"domain\": {\"data\": \"table\", \"field\": \"data.idx\"}, \"name\": \"x\", \"padding\": 0.1, \"range\": \"width\", \"type\": \"ordinal\", \"zero\": false}, {\"domain\": {\"data\": \"stats\", \"field\": \"sum\"}, \"name\": \"y\", \"nice\": true, \"range\": \"height\"}, {\"domain\": {\"data\": \"table\", \"field\": \"data.col\"}, \"name\": \"color\", \"range\": [\"#b3e2cd\", \"#fdcdac\", \"#cbd5e8\", \"#f4cae4\", \"#e6f5c9\", \"#fff2ae\", \"#f1e2cc\", \"#cccccc\"], \"type\": \"ordinal\"}], \"width\": 960}, function(chart) {\n",
       "         chart({el: \"#vis33b87278864840b4bf4dd01d001be306\"}).update();\n",
       "       });\n",
       "     };\n",
       "     _do_plot();\n",
       "   })();\n",
       "</script>\n",
       "<style>.vega canvas {width: 100%;}</style>\n",
       "        "
      ],
      "text/plain": [
       "<IPython.core.display.HTML object>"
      ]
     },
     "metadata": {},
     "output_type": "display_data"
    }
   ],
   "source": [
    "pre_data = counter.most_common(10)\n",
    "\n",
    "vincent.core.initialize_notebook()\n",
    "data = [x[1] for x in pre_data]\n",
    "index = [x[0] for x in pre_data]\n",
    "s = pd.Series(data=data, index=index)\n",
    "\n",
    "\n",
    "bars = vincent.Bar(s)\n",
    "bars.colors(brew='Pastel2')\n",
    "bars.axis_titles(x='Character', y='# lines')\n",
    "bars.scales['x'].padding = 0.1\n",
    "bars.display()"
   ]
  },
  {
   "cell_type": "code",
   "execution_count": 8,
   "metadata": {
    "collapsed": false
   },
   "outputs": [
    {
     "name": "stdout",
     "output_type": "stream",
     "text": [
      "(u'WILL TURNER', 26)\n",
      "(u'JACK SPARROW', 24)\n",
      "(u'GIBBS', 19)\n",
      "(u'ELIZABETH SWANN', 16)\n",
      "(u'PINTEL', 14)\n",
      "(u'RAGETTI', 12)\n",
      "(u'DAVY JONES', 10)\n",
      "(u'NORRINGTON', 7)\n",
      "(u'LORD CUTLER BECKETT', 5)\n",
      "(u'MACCUS', 5)\n"
     ]
    }
   ],
   "source": [
    "# Characters in most amount of scenes.\n",
    "\n",
    "chs = []\n",
    "inte = []\n",
    "for sen in p4:\n",
    "    if sen[:6] == \"Scene:\":\n",
    "        if len(inte) != 0:\n",
    "            chs.extend(inte)\n",
    "            inte = []\n",
    "    elif \":\" in sen:\n",
    "        c = sen.split(\":\")[0]\n",
    "        if c in characters and c not in inte:\n",
    "            inte.append(c)\n",
    "            \n",
    "counter = collections.Counter(chs)\n",
    "for elem in counter.most_common(10):\n",
    "    print elem\n"
   ]
  },
  {
   "cell_type": "code",
   "execution_count": 9,
   "metadata": {
    "collapsed": false
   },
   "outputs": [
    {
     "data": {
      "text/html": [
       "\n",
       "           <script>\n",
       "               \n",
       "                function vct_load_lib(url, callback){\n",
       "                      if(typeof d3 !== 'undefined' &&\n",
       "                         url === 'http://d3js.org/d3.v3.min.js'){\n",
       "                        callback()\n",
       "                      }\n",
       "                      var s = document.createElement('script');\n",
       "                      s.src = url;\n",
       "                      s.async = true;\n",
       "                      s.onreadystatechange = s.onload = callback;\n",
       "                      s.onerror = function(){\n",
       "                        console.warn(\"failed to load library \" + url);\n",
       "                        };\n",
       "                      document.getElementsByTagName(\"head\")[0].appendChild(s);\n",
       "                };\n",
       "                var vincent_event = new CustomEvent(\n",
       "                  \"vincent_libs_loaded\",\n",
       "                  {bubbles: true, cancelable: true}\n",
       "                );\n",
       "                \n",
       "               function load_all_libs(){\n",
       "                  console.log('Loading Vincent libs...')\n",
       "                  vct_load_lib('http://d3js.org/d3.v3.min.js', function(){\n",
       "                  vct_load_lib('http://d3js.org/d3.geo.projection.v0.min.js', function(){\n",
       "                  vct_load_lib('http://wrobstory.github.io/d3-cloud/d3.layout.cloud.js', function(){\n",
       "                  vct_load_lib('http://wrobstory.github.io/vega/vega.v1.3.3.js', function(){\n",
       "                  window.dispatchEvent(vincent_event);\n",
       "                  });\n",
       "                  });\n",
       "                  });\n",
       "                  });\n",
       "               };\n",
       "               if(typeof define === \"function\" && define.amd){\n",
       "                    if (window['d3'] === undefined ||\n",
       "                        window['topojson'] === undefined){\n",
       "                        require.config(\n",
       "                            {paths: {\n",
       "                              d3: 'http://d3js.org/d3.v3.min',\n",
       "                              topojson: 'http://d3js.org/topojson.v1.min'\n",
       "                              }\n",
       "                            }\n",
       "                          );\n",
       "                        require([\"d3\"], function(d3){\n",
       "                            console.log('Loading Vincent from require.js...')\n",
       "                            window.d3 = d3;\n",
       "                            require([\"topojson\"], function(topojson){\n",
       "                                window.topojson = topojson;\n",
       "                                load_all_libs();\n",
       "                            });\n",
       "                        });\n",
       "                    } else {\n",
       "                        load_all_libs();\n",
       "                    };\n",
       "               }else{\n",
       "                    console.log('Require.js not found, loading manually...')\n",
       "                    load_all_libs();\n",
       "               };\n",
       "\n",
       "           </script>"
      ],
      "text/plain": [
       "<IPython.core.display.HTML object>"
      ]
     },
     "metadata": {},
     "output_type": "display_data"
    },
    {
     "data": {
      "text/html": [
       "<div id=\"vis85cf5a96efc04135a31e78c802094cf7\"></div>\n",
       "<script>\n",
       "   ( function() {\n",
       "     var _do_plot = function() {\n",
       "       if (typeof vg === 'undefined') {\n",
       "         window.addEventListener('vincent_libs_loaded', _do_plot)\n",
       "         return;\n",
       "       }\n",
       "       vg.parse.spec({\"axes\": [{\"scale\": \"x\", \"title\": \"Character\", \"type\": \"x\"}, {\"scale\": \"y\", \"title\": \"# scenes\", \"type\": \"y\"}], \"data\": [{\"name\": \"table\", \"values\": [{\"col\": \"data\", \"idx\": \"WILL TURNER\", \"val\": 26}, {\"col\": \"data\", \"idx\": \"JACK SPARROW\", \"val\": 24}, {\"col\": \"data\", \"idx\": \"GIBBS\", \"val\": 19}, {\"col\": \"data\", \"idx\": \"ELIZABETH SWANN\", \"val\": 16}, {\"col\": \"data\", \"idx\": \"PINTEL\", \"val\": 14}, {\"col\": \"data\", \"idx\": \"RAGETTI\", \"val\": 12}, {\"col\": \"data\", \"idx\": \"DAVY JONES\", \"val\": 10}, {\"col\": \"data\", \"idx\": \"NORRINGTON\", \"val\": 7}, {\"col\": \"data\", \"idx\": \"LORD CUTLER BECKETT\", \"val\": 5}, {\"col\": \"data\", \"idx\": \"MACCUS\", \"val\": 5}]}, {\"name\": \"stats\", \"source\": \"table\", \"transform\": [{\"keys\": [\"data.idx\"], \"type\": \"facet\"}, {\"type\": \"stats\", \"value\": \"data.val\"}]}], \"height\": 500, \"legends\": [], \"marks\": [{\"from\": {\"data\": \"table\", \"transform\": [{\"keys\": [\"data.col\"], \"type\": \"facet\"}, {\"height\": \"data.val\", \"point\": \"data.idx\", \"type\": \"stack\"}]}, \"marks\": [{\"properties\": {\"enter\": {\"fill\": {\"field\": \"data.col\", \"scale\": \"color\"}, \"width\": {\"band\": true, \"offset\": -1, \"scale\": \"x\"}, \"x\": {\"field\": \"data.idx\", \"scale\": \"x\"}, \"y\": {\"field\": \"y\", \"scale\": \"y\"}, \"y2\": {\"field\": \"y2\", \"scale\": \"y\"}}}, \"type\": \"rect\"}], \"type\": \"group\"}], \"padding\": \"auto\", \"scales\": [{\"domain\": {\"data\": \"table\", \"field\": \"data.idx\"}, \"name\": \"x\", \"padding\": 0.1, \"range\": \"width\", \"type\": \"ordinal\", \"zero\": false}, {\"domain\": {\"data\": \"stats\", \"field\": \"sum\"}, \"name\": \"y\", \"nice\": true, \"range\": \"height\"}, {\"domain\": {\"data\": \"table\", \"field\": \"data.col\"}, \"name\": \"color\", \"range\": [\"#b3e2cd\", \"#fdcdac\", \"#cbd5e8\", \"#f4cae4\", \"#e6f5c9\", \"#fff2ae\", \"#f1e2cc\", \"#cccccc\"], \"type\": \"ordinal\"}], \"width\": 960}, function(chart) {\n",
       "         chart({el: \"#vis85cf5a96efc04135a31e78c802094cf7\"}).update();\n",
       "       });\n",
       "     };\n",
       "     _do_plot();\n",
       "   })();\n",
       "</script>\n",
       "<style>.vega canvas {width: 100%;}</style>\n",
       "        "
      ],
      "text/plain": [
       "<IPython.core.display.HTML object>"
      ]
     },
     "metadata": {},
     "output_type": "display_data"
    }
   ],
   "source": [
    "pre_data = counter.most_common(10)\n",
    "\n",
    "vincent.core.initialize_notebook()\n",
    "data = [x[1] for x in pre_data]\n",
    "index = [x[0] for x in pre_data]\n",
    "s = pd.Series(data=data, index=index)\n",
    "\n",
    "\n",
    "bars = vincent.Bar(s)\n",
    "bars.colors(brew='Pastel2')\n",
    "bars.axis_titles(x='Character', y=\"# scenes\")\n",
    "bars.scales['x'].padding = 0.1\n",
    "bars.display()"
   ]
  },
  {
   "cell_type": "code",
   "execution_count": 29,
   "metadata": {
    "collapsed": false
   },
   "outputs": [
    {
     "data": {
      "text/plain": [
       "[(u'want', 12),\n",
       " (u'come', 11),\n",
       " (u'know', 9),\n",
       " (u'oh', 9),\n",
       " (u'love', 8),\n",
       " (u'dirt', 8),\n",
       " (u'bugger', 8),\n",
       " (u\"you're\", 7),\n",
       " (u'hey', 7),\n",
       " (u'captain', 6)]"
      ]
     },
     "execution_count": 29,
     "metadata": {},
     "output_type": "execute_result"
    }
   ],
   "source": [
    "# Most used words of the main characters.\n",
    "\n",
    "# Most used words of Jack Sparrow.\n",
    "words = []\n",
    "for sen in p4:\n",
    "    if \":\" in sen and sen[:6] != \"Scene:\":\n",
    "        c = sen.split(\":\")[0]\n",
    "        if c == \"JACK SPARROW\":\n",
    "            aux = sen.split(\":\")[1]\n",
    "            for x in aux.split():\n",
    "                words.append(x.lower().strip(\"!?,.:;-_*\"))\n",
    "                \n",
    "filtered_words = [w for w in words if not w in stopwords.words(\"english\")]\n",
    "\n",
    "freq_dist = nltk.FreqDist(filtered_words)\n",
    "freq_dist.pop('')\n",
    "fw = freq_dist.most_common(10)\n",
    "fw"
   ]
  },
  {
   "cell_type": "code",
   "execution_count": 31,
   "metadata": {
    "collapsed": false
   },
   "outputs": [
    {
     "data": {
      "text/plain": [
       "[(u'jack', 22),\n",
       " (u'find', 8),\n",
       " (u'get', 7),\n",
       " (u'elizabeth', 6),\n",
       " (u'euh', 5),\n",
       " (u'know', 5),\n",
       " (u'hold', 5),\n",
       " (u'key', 5),\n",
       " (u'come', 5),\n",
       " (u\"i'm\", 5)]"
      ]
     },
     "execution_count": 31,
     "metadata": {},
     "output_type": "execute_result"
    }
   ],
   "source": [
    "# Most used words of Will Turner.\n",
    "words = []\n",
    "for sen in p4:\n",
    "    if \":\" in sen and sen[:6] != \"Scene:\":\n",
    "        c = sen.split(\":\")[0]\n",
    "        if c == \"WILL TURNER\":\n",
    "            aux = sen.split(\":\")[1]\n",
    "            for x in aux.split():\n",
    "                words.append(x.lower().strip(\"!?,.:;-_*\"))\n",
    "                \n",
    "filtered_words = [w for w in words if not w in stopwords.words(\"english\")]\n",
    "\n",
    "freq_dist = nltk.FreqDist(filtered_words)\n",
    "#freq_dist.pop('')\n",
    "fw = freq_dist.most_common(10)\n",
    "fw"
   ]
  },
  {
   "cell_type": "code",
   "execution_count": 32,
   "metadata": {
    "collapsed": false
   },
   "outputs": [
    {
     "data": {
      "text/plain": [
       "[(u'jack', 11),\n",
       " (u'find', 7),\n",
       " (u'know', 7),\n",
       " (u'oh', 7),\n",
       " (u\"you're\", 6),\n",
       " (u'want', 6),\n",
       " (u\"i'm\", 5),\n",
       " (u'something', 5),\n",
       " (u'man', 5),\n",
       " (u'sparrow', 4)]"
      ]
     },
     "execution_count": 32,
     "metadata": {},
     "output_type": "execute_result"
    }
   ],
   "source": [
    "# Most used words of Elizabeth Swann.\n",
    "words = []\n",
    "for sen in p4:\n",
    "    if \":\" in sen and sen[:6] != \"Scene:\":\n",
    "        c = sen.split(\":\")[0]\n",
    "        if c == \"ELIZABETH SWANN\":\n",
    "            aux = sen.split(\":\")[1]\n",
    "            for x in aux.split():\n",
    "                words.append(x.lower().strip(\"!?,.:;-_*\"))\n",
    "                \n",
    "filtered_words = [w for w in words if not w in stopwords.words(\"english\")]\n",
    "\n",
    "freq_dist = nltk.FreqDist(filtered_words)\n",
    "freq_dist.pop('')\n",
    "fw = freq_dist.most_common(10)\n",
    "fw"
   ]
  },
  {
   "cell_type": "code",
   "execution_count": 33,
   "metadata": {
    "collapsed": false
   },
   "outputs": [
    {
     "data": {
      "text/plain": [
       "[(u'aye', 9),\n",
       " (u'jack', 9),\n",
       " (u'us', 7),\n",
       " (u'sea', 5),\n",
       " (u\"there's\", 5),\n",
       " (u'ho', 5),\n",
       " (u'bit', 4),\n",
       " (u'like', 4),\n",
       " (u'got', 4),\n",
       " (u'think', 4)]"
      ]
     },
     "execution_count": 33,
     "metadata": {},
     "output_type": "execute_result"
    }
   ],
   "source": [
    "# Most used words of Gibbs.\n",
    "words = []\n",
    "for sen in p4:\n",
    "    if \":\" in sen and sen[:6] != \"Scene:\":\n",
    "        c = sen.split(\":\")[0]\n",
    "        if c == \"GIBBS\":\n",
    "            aux = sen.split(\":\")[1]\n",
    "            for x in aux.split():\n",
    "                words.append(x.lower().strip(\"!?,.:;-_*\"))\n",
    "                \n",
    "filtered_words = [w for w in words if not w in stopwords.words(\"english\")]\n",
    "\n",
    "freq_dist = nltk.FreqDist(filtered_words)\n",
    "freq_dist.pop('')\n",
    "fw = freq_dist.most_common(10)\n",
    "fw"
   ]
  },
  {
   "cell_type": "code",
   "execution_count": 34,
   "metadata": {
    "collapsed": false
   },
   "outputs": [
    {
     "data": {
      "text/plain": [
       "[(u'ha', 12),\n",
       " (u'sparrow', 4),\n",
       " (u'captain', 4),\n",
       " (u'jack', 4),\n",
       " (u'let', 4),\n",
       " (u'huh', 4),\n",
       " (u'liar', 3),\n",
       " (u'years', 3),\n",
       " (u'fear', 3),\n",
       " (u'chest', 3)]"
      ]
     },
     "execution_count": 34,
     "metadata": {},
     "output_type": "execute_result"
    }
   ],
   "source": [
    "# Most used words of Davy Jones.\n",
    "words = []\n",
    "for sen in p4:\n",
    "    if \":\" in sen and sen[:6] != \"Scene:\":\n",
    "        c = sen.split(\":\")[0]\n",
    "        if c == \"DAVY JONES\":\n",
    "            aux = sen.split(\":\")[1]\n",
    "            for x in aux.split():\n",
    "                words.append(x.lower().strip(\"!?,.:;-_*\"))\n",
    "                \n",
    "filtered_words = [w for w in words if not w in stopwords.words(\"english\")]\n",
    "\n",
    "freq_dist = nltk.FreqDist(filtered_words)\n",
    "freq_dist.pop('')\n",
    "fw = freq_dist.most_common(10)\n",
    "fw"
   ]
  },
  {
   "cell_type": "code",
   "execution_count": 36,
   "metadata": {
    "collapsed": false
   },
   "outputs": [
    {
     "data": {
      "text/plain": [
       "[(u'jack', 7),\n",
       " (u'compass', 5),\n",
       " (u'sparrow', 5),\n",
       " (u'mister', 4),\n",
       " (u'one', 4),\n",
       " (u'world', 3),\n",
       " (u\"there's\", 3),\n",
       " (u'freedom', 3),\n",
       " (u\"i'm\", 3),\n",
       " (u'currency', 3)]"
      ]
     },
     "execution_count": 36,
     "metadata": {},
     "output_type": "execute_result"
    }
   ],
   "source": [
    "# Most used words of Lord Cutler Beckett.\n",
    "words = []\n",
    "for sen in p4:\n",
    "    if \":\" in sen and sen[:6] != \"Scene:\":\n",
    "        c = sen.split(\":\")[0]\n",
    "        if c == \"LORD CUTLER BECKETT\":\n",
    "            aux = sen.split(\":\")[1]\n",
    "            for x in aux.split():\n",
    "                words.append(x.lower().strip(\"!?,.:;-_*\"))\n",
    "                \n",
    "filtered_words = [w for w in words if not w in stopwords.words(\"english\")]\n",
    "\n",
    "freq_dist = nltk.FreqDist(filtered_words)\n",
    "#freq_dist.pop('')\n",
    "fw = freq_dist.most_common(10)\n",
    "fw"
   ]
  },
  {
   "cell_type": "code",
   "execution_count": 38,
   "metadata": {
    "collapsed": false
   },
   "outputs": [
    {
     "data": {
      "text/plain": [
       "[(u'aye', 3),\n",
       " (u\"it's\", 3),\n",
       " (u\"ain't\", 3),\n",
       " (u'us', 3),\n",
       " (u'lines', 3),\n",
       " (u'mooring', 3),\n",
       " (u\"don't\", 2),\n",
       " (u'back', 2),\n",
       " (u\"o'\", 2),\n",
       " (u'enough', 2)]"
      ]
     },
     "execution_count": 38,
     "metadata": {},
     "output_type": "execute_result"
    }
   ],
   "source": [
    "# Most used words of Pintel.\n",
    "words = []\n",
    "for sen in p4:\n",
    "    if \":\" in sen and sen[:6] != \"Scene:\":\n",
    "        c = sen.split(\":\")[0]\n",
    "        if c == \"PINTEL\":\n",
    "            aux = sen.split(\":\")[1]\n",
    "            for x in aux.split():\n",
    "                words.append(x.lower().strip(\"!?,.:;-_*\"))\n",
    "                \n",
    "filtered_words = [w for w in words if not w in stopwords.words(\"english\")]\n",
    "\n",
    "freq_dist = nltk.FreqDist(filtered_words)\n",
    "#freq_dist.pop('')\n",
    "fw = freq_dist.most_common(10)\n",
    "fw"
   ]
  },
  {
   "cell_type": "code",
   "execution_count": 39,
   "metadata": {
    "collapsed": false
   },
   "outputs": [
    {
     "data": {
      "text/plain": [
       "[(u\"don't\", 3),\n",
       " (u\"it's\", 3),\n",
       " (u'unh-unh', 3),\n",
       " (u'well', 3),\n",
       " (u'souls', 2),\n",
       " (u\"he's\", 2),\n",
       " (u'save', 2),\n",
       " (u'ha-ha-ha', 2),\n",
       " (u'thief/thing', 2),\n",
       " (u'back', 2)]"
      ]
     },
     "execution_count": 39,
     "metadata": {},
     "output_type": "execute_result"
    }
   ],
   "source": [
    "# Most used words of Ragetti.\n",
    "words = []\n",
    "for sen in p4:\n",
    "    if \":\" in sen and sen[:6] != \"Scene:\":\n",
    "        c = sen.split(\":\")[0]\n",
    "        if c == \"RAGETTI\":\n",
    "            aux = sen.split(\":\")[1]\n",
    "            for x in aux.split():\n",
    "                words.append(x.lower().strip(\"!?,.:;-_*\"))\n",
    "                \n",
    "filtered_words = [w for w in words if not w in stopwords.words(\"english\")]\n",
    "\n",
    "freq_dist = nltk.FreqDist(filtered_words)\n",
    "freq_dist.pop('')\n",
    "fw = freq_dist.most_common(10)\n",
    "fw"
   ]
  },
  {
   "cell_type": "code",
   "execution_count": 41,
   "metadata": {
    "collapsed": false
   },
   "outputs": [
    {
     "data": {
      "text/plain": [
       "[(u'oh', 4),\n",
       " (u'one', 3),\n",
       " (u'life', 3),\n",
       " (u'kill', 2),\n",
       " (u'captain', 2),\n",
       " (u'mister', 2),\n",
       " (u\"don't\", 2),\n",
       " (u'actually', 2),\n",
       " (u'sorry', 2),\n",
       " (u'come', 2)]"
      ]
     },
     "execution_count": 41,
     "metadata": {},
     "output_type": "execute_result"
    }
   ],
   "source": [
    "# Most used words of Norrington.\n",
    "words = []\n",
    "for sen in p4:\n",
    "    if \":\" in sen and sen[:6] != \"Scene:\":\n",
    "        c = sen.split(\":\")[0]\n",
    "        if c == \"NORRINGTON\":\n",
    "            aux = sen.split(\":\")[1]\n",
    "            for x in aux.split():\n",
    "                words.append(x.lower().strip(\"!?,.:;-_*\"))\n",
    "                \n",
    "filtered_words = [w for w in words if not w in stopwords.words(\"english\")]\n",
    "\n",
    "freq_dist = nltk.FreqDist(filtered_words)\n",
    "#freq_dist.pop('')\n",
    "fw = freq_dist.most_common(10)\n",
    "fw"
   ]
  },
  {
   "cell_type": "code",
   "execution_count": 43,
   "metadata": {
    "collapsed": false
   },
   "outputs": [
    {
     "data": {
      "text/plain": [
       "[(u'de', 8),\n",
       " (u'know', 7),\n",
       " (u'hmmm', 4),\n",
       " (u'jack', 4),\n",
       " (u'would', 4),\n",
       " (u'wid', 4),\n",
       " (u'chest', 4),\n",
       " (u'sparrow', 3),\n",
       " (u'cannot', 3),\n",
       " (u'back', 3)]"
      ]
     },
     "execution_count": 43,
     "metadata": {},
     "output_type": "execute_result"
    }
   ],
   "source": [
    "# Most used words of Tia Dalma.\n",
    "words = []\n",
    "for sen in p4:\n",
    "    if \":\" in sen and sen[:6] != \"Scene:\":\n",
    "        c = sen.split(\":\")[0]\n",
    "        if c == \"TIA DALMA\":\n",
    "            aux = sen.split(\":\")[1]\n",
    "            for x in aux.split():\n",
    "                words.append(x.lower().strip(\"!?,.:;-_*\"))\n",
    "                \n",
    "filtered_words = [w for w in words if not w in stopwords.words(\"english\")]\n",
    "\n",
    "freq_dist = nltk.FreqDist(filtered_words)\n",
    "#freq_dist.pop('')\n",
    "fw = freq_dist.most_common(10)\n",
    "fw"
   ]
  },
  {
   "cell_type": "code",
   "execution_count": null,
   "metadata": {
    "collapsed": true
   },
   "outputs": [],
   "source": []
  }
 ],
 "metadata": {
  "kernelspec": {
   "display_name": "Python 2",
   "language": "python",
   "name": "python2"
  },
  "language_info": {
   "codemirror_mode": {
    "name": "ipython",
    "version": 2
   },
   "file_extension": ".py",
   "mimetype": "text/x-python",
   "name": "python",
   "nbconvert_exporter": "python",
   "pygments_lexer": "ipython2",
   "version": "2.7.9"
  }
 },
 "nbformat": 4,
 "nbformat_minor": 0
}
